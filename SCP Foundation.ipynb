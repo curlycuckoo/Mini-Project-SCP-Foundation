{
 "cells": [
  {
   "cell_type": "markdown",
   "metadata": {},
   "source": [
    "#### https://the-scp.foundation/directory/series/1?"
   ]
  },
  {
   "cell_type": "code",
   "execution_count": 1,
   "metadata": {},
   "outputs": [],
   "source": [
    "from bs4 import BeautifulSoup as bs\n",
    "import pandas\n",
    "import re\n",
    "import requests"
   ]
  },
  {
   "cell_type": "code",
   "execution_count": 2,
   "metadata": {},
   "outputs": [],
   "source": [
    "headers={'user-agent': 'Mozilla/5.0 (Windows NT 10.0; Win64; x64) AppleWebKit/537.36 (KHTML, like Gecko) Chrome/86.0.4240.183 Safari/537.36 Edg/86.0.622.63'}\n",
    "r=requests.get('https://the-scp.foundation/directory/series/1?', headers=headers)\n",
    "r.encoding='utf-8'\n",
    "r.content\n",
    "soup=bs(r.content,'lxml')\n"
   ]
  },
  {
   "cell_type": "markdown",
   "metadata": {},
   "source": [
    "### SCP 编号 名字 等级"
   ]
  },
  {
   "cell_type": "code",
   "execution_count": 3,
   "metadata": {},
   "outputs": [],
   "source": [
    "objects=soup.select('article.object')"
   ]
  },
  {
   "cell_type": "markdown",
   "metadata": {},
   "source": [
    "#### 先分段处理如下"
   ]
  },
  {
   "cell_type": "code",
   "execution_count": 4,
   "metadata": {},
   "outputs": [],
   "source": [
    "# 物件的等级\n",
    "\n",
    "#for object in objects: \n",
    "  #  alt_class=object.find('img')\n",
    "  #  if alt_class==None:\n",
    "     #   print (\"Blocked\")\n",
    "    #else:\n",
    "     #   print (alt_class['alt'])\n",
    "\n",
    "# 找到 SCP 的编号\n",
    "# for object in objects:  \n",
    "   # scp_numbers=object.find(string=re.compile('SCP'))\n",
    "   # print (scp_numbers)\n",
    "\n",
    "# 找到 SCP 的 名字\n",
    "# for object in objects:  \n",
    "   # names=object.find('small')\n",
    "   # print (names.text)"
   ]
  },
  {
   "cell_type": "markdown",
   "metadata": {},
   "source": [
    "#### 整合如下"
   ]
  },
  {
   "cell_type": "code",
   "execution_count": 6,
   "metadata": {},
   "outputs": [
    {
     "data": {
      "text/html": [
       "<div>\n",
       "<style scoped>\n",
       "    .dataframe tbody tr th:only-of-type {\n",
       "        vertical-align: middle;\n",
       "    }\n",
       "\n",
       "    .dataframe tbody tr th {\n",
       "        vertical-align: top;\n",
       "    }\n",
       "\n",
       "    .dataframe thead th {\n",
       "        text-align: right;\n",
       "    }\n",
       "</style>\n",
       "<table border=\"1\" class=\"dataframe\">\n",
       "  <thead>\n",
       "    <tr style=\"text-align: right;\">\n",
       "      <th></th>\n",
       "      <th>number</th>\n",
       "      <th>name</th>\n",
       "      <th>classification</th>\n",
       "    </tr>\n",
       "  </thead>\n",
       "  <tbody>\n",
       "    <tr>\n",
       "      <th>0</th>\n",
       "      <td>SCP-001</td>\n",
       "      <td>Awaiting De-classification [Blocked]</td>\n",
       "      <td>Not Display</td>\n",
       "    </tr>\n",
       "    <tr>\n",
       "      <th>1</th>\n",
       "      <td>SCP-002</td>\n",
       "      <td>The \"Living\" Room</td>\n",
       "      <td>Euclid</td>\n",
       "    </tr>\n",
       "    <tr>\n",
       "      <th>2</th>\n",
       "      <td>SCP-003</td>\n",
       "      <td>Biological Motherboard</td>\n",
       "      <td>Euclid</td>\n",
       "    </tr>\n",
       "    <tr>\n",
       "      <th>3</th>\n",
       "      <td>SCP-004</td>\n",
       "      <td>The 12 Rusty Keys and the Door</td>\n",
       "      <td>Euclid</td>\n",
       "    </tr>\n",
       "    <tr>\n",
       "      <th>4</th>\n",
       "      <td>SCP-005</td>\n",
       "      <td>Skeleton Key</td>\n",
       "      <td>Safe</td>\n",
       "    </tr>\n",
       "    <tr>\n",
       "      <th>...</th>\n",
       "      <td>...</td>\n",
       "      <td>...</td>\n",
       "      <td>...</td>\n",
       "    </tr>\n",
       "    <tr>\n",
       "      <th>994</th>\n",
       "      <td>SCP-995</td>\n",
       "      <td>Under The Couch</td>\n",
       "      <td>Euclid</td>\n",
       "    </tr>\n",
       "    <tr>\n",
       "      <th>995</th>\n",
       "      <td>SCP-996</td>\n",
       "      <td>Broken Topology</td>\n",
       "      <td>Euclid</td>\n",
       "    </tr>\n",
       "    <tr>\n",
       "      <th>996</th>\n",
       "      <td>SCP-997</td>\n",
       "      <td>Vermin Suppressor</td>\n",
       "      <td>Safe</td>\n",
       "    </tr>\n",
       "    <tr>\n",
       "      <th>997</th>\n",
       "      <td>SCP-998</td>\n",
       "      <td>Missing Aircraft</td>\n",
       "      <td>Euclid</td>\n",
       "    </tr>\n",
       "    <tr>\n",
       "      <th>998</th>\n",
       "      <td>SCP-999</td>\n",
       "      <td>The Tickle Monster</td>\n",
       "      <td>Safe</td>\n",
       "    </tr>\n",
       "  </tbody>\n",
       "</table>\n",
       "<p>999 rows × 3 columns</p>\n",
       "</div>"
      ],
      "text/plain": [
       "       number                                  name classification\n",
       "0    SCP-001   Awaiting De-classification [Blocked]    Not Display\n",
       "1    SCP-002                      The \"Living\" Room         Euclid\n",
       "2    SCP-003                 Biological Motherboard         Euclid\n",
       "3    SCP-004         The 12 Rusty Keys and the Door         Euclid\n",
       "4    SCP-005                           Skeleton Key           Safe\n",
       "..        ...                                   ...            ...\n",
       "994  SCP-995                        Under The Couch         Euclid\n",
       "995  SCP-996                        Broken Topology         Euclid\n",
       "996  SCP-997                      Vermin Suppressor           Safe\n",
       "997  SCP-998                       Missing Aircraft         Euclid\n",
       "998  SCP-999                     The Tickle Monster           Safe\n",
       "\n",
       "[999 rows x 3 columns]"
      ]
     },
     "execution_count": 6,
     "metadata": {},
     "output_type": "execute_result"
    }
   ],
   "source": [
    "\n",
    "# SCP 物件的 编号和名字\n",
    "table=[]\n",
    "\n",
    "for object in objects:   \n",
    "     # 编号\n",
    "    scp_numbers=object.find(string=re.compile('SCP'))\n",
    "        \n",
    "     # 名字\n",
    "    names=object.find('small')\n",
    "    \n",
    "    # 等级\n",
    "    alt_class=object.find('img')\n",
    "    if alt_class==None:\n",
    "        table.append({'number':scp_numbers,'name':names.text,'classification':\"Not Display\"})\n",
    "        continue\n",
    "    else:\n",
    "        table.append({'number':scp_numbers,'name':names.text,'classification':alt_class['alt']})\n",
    "         \n",
    "df=pandas.DataFrame(table)  \n",
    "df\n",
    "    "
   ]
  }
 ],
 "metadata": {
  "kernelspec": {
   "display_name": "Python 3",
   "language": "python",
   "name": "python3"
  },
  "language_info": {
   "codemirror_mode": {
    "name": "ipython",
    "version": 3
   },
   "file_extension": ".py",
   "mimetype": "text/x-python",
   "name": "python",
   "nbconvert_exporter": "python",
   "pygments_lexer": "ipython3",
   "version": "3.8.1"
  }
 },
 "nbformat": 4,
 "nbformat_minor": 4
}
